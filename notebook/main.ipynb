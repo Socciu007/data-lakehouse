{
 "cells": [
  {
   "cell_type": "code",
   "execution_count": 2,
   "metadata": {},
   "outputs": [],
   "source": [
    "import sys\n",
    "import os\n",
    "\n",
    "# Add url to root folder\n",
    "sys.path.append(os.path.abspath(os.path.join(os.getcwd(), '..')))\n",
    "\n",
    "from pyspark.sql import SparkSession\n",
    "from delta import *\n",
    "from etl.extract_data import extract_data\n",
    "from etl.transform_data import clean_data, format_column_name\n",
    "from etl.load_data import load_data\n"
   ]
  },
  {
   "cell_type": "markdown",
   "metadata": {},
   "source": [
    "Set up Spark + Delta Lake"
   ]
  },
  {
   "cell_type": "code",
   "execution_count": 3,
   "metadata": {},
   "outputs": [
    {
     "name": "stdout",
     "output_type": "stream",
     "text": [
      "Spark + Delta Lake setup is successful!\n"
     ]
    }
   ],
   "source": [
    "# Setup Spark + Delta Lake ( define DeltaSparkSessionExtension and DeltaCatalog)\n",
    "builder = SparkSession.builder.appName(\"DeltaLake\") \\\n",
    "    .config(\"spark.sql.extensions\", \"io.delta.sql.DeltaSparkSessionExtension\") \\\n",
    "    .config(\"spark.sql.catalog.spark_catalog\", \"org.apache.spark.sql.delta.catalog.DeltaCatalog\")\n",
    "\n",
    "spark = configure_spark_with_delta_pip(builder).getOrCreate()\n",
    "print(\"Spark + Delta Lake setup is successful!\")"
   ]
  },
  {
   "cell_type": "markdown",
   "metadata": {},
   "source": [
    "Extract and Transform data from a file"
   ]
  },
  {
   "cell_type": "code",
   "execution_count": 4,
   "metadata": {},
   "outputs": [
    {
     "name": "stdout",
     "output_type": "stream",
     "text": [
      "+----------+---+--------------------+-----------------------+-------------+------------+--------------------+-------------+--------+--------------+--------------------+-----------------------+---------------------+------------+\n",
      "|Tourist_ID|Age|           Interests|Preferred_Tour_Duration|Accessibility|   Site_Name|       Sites_Visited|Tour_Duration|Route_ID|Tourist_Rating|System_Response_Time|Recommendation_Accuracy|VR_Experience_Quality|Satisfaction|\n",
      "+----------+---+--------------------+-----------------------+-------------+------------+--------------------+-------------+--------+--------------+--------------------+-----------------------+---------------------+------------+\n",
      "|         1| 48|['Architecture', ...|                      5|        False|Eiffel Tower|['Eiffel Tower', ...|            7|    1000|           1.6|                3.73|                     97|                  4.5|           3|\n",
      "|         2| 37|['Cultural', 'Nat...|                      6|        False|   Colosseum|['Great Wall of C...|            1|    2000|           2.6|                2.89|                     90|                  4.5|           3|\n",
      "|         3| 43|['History', 'Art'...|                      6|         True|Machu Picchu|    ['Eiffel Tower']|            2|    3000|           1.7|                2.22|                     94|                  4.7|           3|\n",
      "|         4| 46|['Cultural', 'Art...|                      8|        False|   Colosseum|['Machu Picchu', ...|            5|    4000|           2.0|                2.34|                     92|                  4.7|           3|\n",
      "|         5| 53|['Architecture', ...|                      5|         True|   Colosseum|['Machu Picchu', ...|            7|    5000|           3.7|                 2.0|                     96|                  4.8|           4|\n",
      "+----------+---+--------------------+-----------------------+-------------+------------+--------------------+-------------+--------+--------------+--------------------+-----------------------+---------------------+------------+\n",
      "only showing top 5 rows\n",
      "\n"
     ]
    }
   ],
   "source": [
    "# Extract data from a file .csv\n",
    "df = extract_data(spark, \"../data/tourism_dataset.csv\")\n",
    "df_clean = clean_data(df)\n",
    "df_formatted = format_column_name(df_clean)\n",
    "new_df = df_formatted\n",
    "try: \n",
    "    new_df.show(5)\n",
    "except Exception as e:\n",
    "    print(e)"
   ]
  },
  {
   "cell_type": "markdown",
   "metadata": {},
   "source": [
    "Save data to a Delta table\n"
   ]
  },
  {
   "cell_type": "code",
   "execution_count": 5,
   "metadata": {},
   "outputs": [],
   "source": [
    "# Save data to a Delta table\n",
    "load_data(new_df, \"../data/delta_table\")"
   ]
  },
  {
   "cell_type": "code",
   "execution_count": 7,
   "metadata": {},
   "outputs": [],
   "source": [
    "# Read data from a Delta table\n",
    "df_delta = spark.read.format(\"delta\").load(\"../data/delta_table\")\n",
    "# try:\n",
    "#     df_delta.show(5)\n",
    "# except Exception as e:\n",
    "#     print(e)\n"
   ]
  },
  {
   "cell_type": "code",
   "execution_count": 9,
   "metadata": {},
   "outputs": [
    {
     "name": "stdout",
     "output_type": "stream",
     "text": [
      "+----------+---+--------------------+-----------------------+-------------+------------+--------------------+-------------+--------+--------------+--------------------+-----------------------+---------------------+------------+\n",
      "|Tourist_ID|Age|           Interests|Preferred_Tour_Duration|Accessibility|   Site_Name|       Sites_Visited|Tour_Duration|Route_ID|Tourist_Rating|System_Response_Time|Recommendation_Accuracy|VR_Experience_Quality|Satisfaction|\n",
      "+----------+---+--------------------+-----------------------+-------------+------------+--------------------+-------------+--------+--------------+--------------------+-----------------------+---------------------+------------+\n",
      "|         1| 48|['Architecture', ...|                      5|        False|Eiffel Tower|['Eiffel Tower', ...|            7|    1000|           1.6|                3.73|                     97|                  4.5|           3|\n",
      "|         2| 37|['Cultural', 'Nat...|                      6|        False|   Colosseum|['Great Wall of C...|            1|    2000|           2.6|                2.89|                     90|                  4.5|           3|\n",
      "|         3| 43|['History', 'Art'...|                      6|         True|Machu Picchu|    ['Eiffel Tower']|            2|    3000|           1.7|                2.22|                     94|                  4.7|           3|\n",
      "|         4| 46|['Cultural', 'Art...|                      8|        False|   Colosseum|['Machu Picchu', ...|            5|    4000|           2.0|                2.34|                     92|                  4.7|           3|\n",
      "|         5| 53|['Architecture', ...|                      5|         True|   Colosseum|['Machu Picchu', ...|            7|    5000|           3.7|                 2.0|                     96|                  4.8|           4|\n",
      "+----------+---+--------------------+-----------------------+-------------+------------+--------------------+-------------+--------+--------------+--------------------+-----------------------+---------------------+------------+\n",
      "only showing top 5 rows\n",
      "\n"
     ]
    }
   ],
   "source": [
    "df_delta.show(5)\n",
    "df_delta.createOrReplaceTempView(\"tourisms\")"
   ]
  },
  {
   "cell_type": "code",
   "execution_count": 10,
   "metadata": {},
   "outputs": [
    {
     "name": "stdout",
     "output_type": "stream",
     "text": [
      "+---+-------------------+\n",
      "|Age|Count_Tour_Duration|\n",
      "+---+-------------------+\n",
      "| 18|              518.0|\n",
      "| 19|              451.0|\n",
      "| 20|              499.0|\n",
      "| 21|              466.0|\n",
      "| 22|              448.0|\n",
      "| 23|              526.0|\n",
      "| 24|              486.0|\n",
      "| 25|              664.0|\n",
      "| 26|              537.0|\n",
      "| 27|              602.0|\n",
      "| 28|              632.0|\n",
      "| 29|              564.0|\n",
      "| 30|              520.0|\n",
      "| 31|              460.0|\n",
      "| 32|              524.0|\n",
      "| 33|              557.0|\n",
      "| 34|              490.0|\n",
      "| 35|              471.0|\n",
      "| 36|              505.0|\n",
      "| 37|              483.0|\n",
      "+---+-------------------+\n",
      "only showing top 20 rows\n",
      "\n"
     ]
    }
   ],
   "source": [
    "result = spark.sql(\"\"\"\n",
    "        SELECT Age, SUM(Preferred_Tour_Duration) AS Count_Tour_Duration\n",
    "        FROM tourisms\n",
    "        GROUP BY Age\n",
    "        ORDER BY Age ASC\n",
    "    \"\"\")\n",
    "result.show()"
   ]
  }
 ],
 "metadata": {
  "kernelspec": {
   "display_name": "env",
   "language": "python",
   "name": "python3"
  },
  "language_info": {
   "codemirror_mode": {
    "name": "ipython",
    "version": 3
   },
   "file_extension": ".py",
   "mimetype": "text/x-python",
   "name": "python",
   "nbconvert_exporter": "python",
   "pygments_lexer": "ipython3",
   "version": "3.12.4"
  }
 },
 "nbformat": 4,
 "nbformat_minor": 2
}
